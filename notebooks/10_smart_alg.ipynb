{
 "cells": [
  {
   "cell_type": "code",
   "execution_count": 1,
   "metadata": {},
   "outputs": [],
   "source": [
    "import numpy as np\n",
    "import pandas as pd\n",
    "from sko.GA import GA"
   ]
  },
  {
   "cell_type": "markdown",
   "metadata": {},
   "source": [
    "## pyomo"
   ]
  },
  {
   "cell_type": "code",
   "execution_count": 27,
   "metadata": {},
   "outputs": [],
   "source": [
    "\n",
    "import numpy as np\n",
    "import pyomo.environ as pyo\n",
    "from fastapi import FastAPI, HTTPException\n",
    "from pydantic import BaseModel\n",
    "import pandas as pd\n",
    "from amplpy import modules\n",
    "from typing import List\n",
    "from pyomo.opt import SolverStatus, TerminationCondition\n",
    "\n",
    "def preprocess_file(df_params):\n",
    "    df_params['slope'] = (df_params['sales_at_upper_bound'] - df_params['sales_at_lower_bound']\n",
    "                          ) / (df_params['price_upper_bound'] - df_params['price_lower_bound'])\n",
    "    df_params['intercept'] = df_params['sales_at_lower_bound'] - \\\n",
    "        df_params['slope'] * df_params['price_lower_bound']\n",
    "    df_params['deal_slope'] = (df_params['deal_sales_upper_bound'] - df_params['deal_sales_lower_bound']\n",
    "                               ) / (df_params['price_upper_bound'] - df_params['price_lower_bound'])\n",
    "    df_params['deal_intercept'] = df_params['deal_sales_lower_bound'] - \\\n",
    "        df_params['deal_slope'] * df_params['price_lower_bound']\n",
    "    return df_params\n",
    "\n",
    "def optimize_with_deal(df_params):\n",
    "    n_product = len(df_params)\n",
    "    model = pyo.ConcreteModel()\n",
    "\n",
    "    def price_bounds_rule(model, i):\n",
    "        return df_params.loc[i, 'price_lower_bound'], df_params.loc[i, 'price_upper_bound']\n",
    "\n",
    "    model.prices = pyo.Var(\n",
    "        range(n_product), domain=pyo.NonNegativeReals, bounds=price_bounds_rule)\n",
    "\n",
    "    # 每个产品是否做deal\n",
    "    model.deal = pyo.Var(range(n_product), domain=pyo.NonNegativeIntegers, bounds=(0, 10))\n",
    "\n",
    "    # set product 1 deal to 1 \n",
    "    model.deal[0].fix(10.0)\n",
    "\n",
    "    # 总利润\n",
    "    def total_profit_rule(model):\n",
    "        a = df_params['slope']\n",
    "        b = df_params['intercept']\n",
    "        a_d = df_params['deal_slope']\n",
    "        b_d = df_params['deal_intercept']\n",
    "        total_profit = 0\n",
    "        for i in range(n_product):\n",
    "            # 日常每天利润\n",
    "            fba_commission = model.prices[i] * 0.15\n",
    "            manual_fee = model.prices[i] * 0.06\n",
    "            storage_fee = model.prices[i] * 0.02\n",
    "\n",
    "            # 每个产品的利润 日常\n",
    "            product_income = model.prices[i] * (1 - df_params['damage_rate'][i]) - df_params['latest_amazon_delivery_fee_usd'][i] - \\\n",
    "                fba_commission - df_params['vat_local'][i] - df_params['promotion_discount'][i] - \\\n",
    "                df_params['ppc_cost'][i] - manual_fee - storage_fee\n",
    "            product_profit_rmb = product_income * df_params['exchange_rate'][i] - df_params['purchase_cost'][i] - \\\n",
    "                df_params['shipping_and_tax'][i]\n",
    "\n",
    "            # 每个产品的利润 deal\n",
    "            product_income_deal = model.prices[i] * 0.85 * (1 - df_params['damage_rate'][i]) - df_params['latest_amazon_delivery_fee_usd'][i] - \\\n",
    "                fba_commission - df_params['vat_local'][i] - df_params['promotion_discount'][i] - \\\n",
    "                df_params['ppc_cost'][i] - manual_fee - storage_fee\n",
    "            product_profit_rmb_deal = product_income_deal * df_params['exchange_rate'][i] - df_params['purchase_cost'][i] - \\\n",
    "                df_params['shipping_and_tax'][i]\n",
    "\n",
    "            # 日常销量\n",
    "            product_sales = a[i] * model.prices[i] + b[i]\n",
    "\n",
    "            # deal销量\n",
    "            product_sales_deal = a_d[i] * model.prices[i] + b_d[i]\n",
    "\n",
    "            total_profit += (30 - model.deal[i]) * product_profit_rmb * product_sales \\\n",
    "                + model.deal[i] * product_profit_rmb_deal * product_sales_deal\n",
    "\n",
    "        return total_profit\n",
    "\n",
    "    model.total_profit = pyo.Objective(\n",
    "        rule=total_profit_rule, sense=pyo.maximize)\n",
    "\n",
    "    solver = pyo.SolverFactory(modules.find('bonmin'), solver_io='nl')\n",
    "    result = solver.solve(model)\n",
    "\n",
    "    if (result.solver.status == SolverStatus.ok ) and (result.solver.termination_condition == TerminationCondition.optimal):\n",
    "        status = 'optimal'\n",
    "    elif result.solver.termination_condition == TerminationCondition.infeasible:\n",
    "        status = 'infeasible'\n",
    "    else:\n",
    "        status = result.solver.status\n",
    "\n",
    "    optimized_prices = [np.round(pyo.value(model.prices[i]),2) for i in range(n_product)]\n",
    "    deal = [np.round(pyo.value(model.deal[i])).astype(int) for i in range(n_product)]\n",
    "    max_profit = np.round(pyo.value(model.total_profit),2)\n",
    "    \n",
    "    return status, optimized_prices, deal, max_profit\n",
    "\n",
    "def optimize_without_deal(df_params):\n",
    "    n_product = len(df_params)\n",
    "    model = pyo.ConcreteModel()\n",
    "\n",
    "    def price_bounds_rule(model, i):\n",
    "        return df_params.loc[i, 'price_lower_bound'], df_params.loc[i, 'price_upper_bound']\n",
    "\n",
    "    model.prices = pyo.Var(\n",
    "        range(n_product), domain=pyo.NonNegativeReals, bounds=price_bounds_rule)\n",
    "\n",
    "    # 总利润\n",
    "    def total_profit_rule(model):\n",
    "        a = df_params['slope']\n",
    "        b = df_params['intercept']\n",
    "        total_profit = 0\n",
    "        for i in range(n_product):\n",
    "            # 日常每天利润\n",
    "            fba_commission = model.prices[i] * 0.15\n",
    "            manual_fee = model.prices[i] * 0.06\n",
    "            storage_fee = model.prices[i] * 0.02\n",
    "\n",
    "            # 每个产品的利润 日常\n",
    "            product_income = model.prices[i] * (1 - df_params['damage_rate'][i]) - df_params['latest_amazon_delivery_fee_usd'][i] - \\\n",
    "                fba_commission - df_params['vat_local'][i] - df_params['promotion_discount'][i] - \\\n",
    "                df_params['ppc_cost'][i] - manual_fee - storage_fee\n",
    "            product_profit_rmb = product_income * df_params['exchange_rate'][i] - df_params['purchase_cost'][i] - \\\n",
    "                df_params['shipping_and_tax'][i]\n",
    "\n",
    "            # 日常销量\n",
    "            product_sales = a[i] * model.prices[i] + b[i]\n",
    "\n",
    "            total_profit += 30 * product_profit_rmb * product_sales\n",
    "\n",
    "        return total_profit\n",
    "\n",
    "    model.total_profit = pyo.Objective(\n",
    "        rule=total_profit_rule, sense=pyo.maximize)\n",
    "\n",
    "    solver = pyo.SolverFactory(modules.find('bonmin'), solver_io='nl')\n",
    "    result = solver.solve(model)\n",
    "\n",
    "    if (result.solver.status == SolverStatus.ok ) and (result.solver.termination_condition == TerminationCondition.optimal):\n",
    "        status = 'optimal'\n",
    "    elif result.solver.termination_condition == TerminationCondition.infeasible:\n",
    "        status = 'infeasible'\n",
    "    else:\n",
    "        status = result.solver.status\n",
    "\n",
    "    optimized_prices = [np.round(pyo.value(model.prices[i]),2) for i in range(n_product)]\n",
    "    deal = [0 for i in range(n_product)]\n",
    "    max_profit = np.round(pyo.value(model.total_profit),2)\n",
    "    \n",
    "    return status, optimized_prices, deal, max_profit\n",
    "\n",
    "def result_process(df_params, optimized_prices, deal):\n",
    "    df_result = df_params.copy()\n",
    "    df_result['optimized_price'] = optimized_prices\n",
    "    df_result['expected_sales'] = (\n",
    "        df_result['slope'] * df_result['optimized_price'] + df_result['intercept']).round(0).astype(int)\n",
    "    df_result['expected_sales_deal'] = (\n",
    "        df_result['deal_slope'] * df_result['optimized_price'] + df_result['deal_intercept']).round(0).astype(int)\n",
    "    df_result['fba_commission_local'] = df_result['optimized_price']*0.15\n",
    "    df_result['labor_cost_6_percent'] = df_result['optimized_price']*0.06\n",
    "    df_result['storage_cost_2_percent'] = df_result['optimized_price']*0.02\n",
    "\n",
    "    # 是否做deal\n",
    "    df_result['is_deal'] = deal\n",
    "    df_result['product_income'] = df_result['optimized_price'] * (1 - df_result['damage_rate']) - df_result['latest_amazon_delivery_fee_usd'] - \\\n",
    "        df_result['fba_commission_local'] - df_result['vat_local'] - df_result['promotion_discount'] - \\\n",
    "        df_result['ppc_cost'] - df_result['labor_cost_6_percent'] - \\\n",
    "        df_result['storage_cost_2_percent']\n",
    "    df_result['product_profit_rmb'] = df_result['product_income'] * df_result['exchange_rate'] - df_result['purchase_cost'] - \\\n",
    "        df_result['shipping_and_tax']\n",
    "    df_result['product_income_deal'] = df_result['optimized_price'] * 0.85 * (1 - df_result['damage_rate']) - df_result['latest_amazon_delivery_fee_usd'] - \\\n",
    "        df_result['fba_commission_local'] - df_result['vat_local'] - df_result['promotion_discount'] - \\\n",
    "        df_result['ppc_cost'] - df_result['labor_cost_6_percent'] - \\\n",
    "        df_result['storage_cost_2_percent']\n",
    "    df_result['product_profit_rmb_deal'] = df_result['product_income_deal'] * df_result['exchange_rate'] - df_result['purchase_cost'] - \\\n",
    "        df_result['shipping_and_tax']\n",
    "    df_result['month_profit_rmb'] = (30 - df_result['is_deal']) * df_result['product_profit_rmb'] * df_result['expected_sales'] \\\n",
    "        + df_result['is_deal'] * df_result['product_profit_rmb_deal'] * df_result['expected_sales_deal']\n",
    "\n",
    "    df_result = df_result.drop(\n",
    "        columns=['slope', 'intercept', 'deal_slope', 'deal_intercept'])\n",
    "    return df_result"
   ]
  },
  {
   "cell_type": "code",
   "execution_count": 33,
   "metadata": {},
   "outputs": [],
   "source": [
    "df_params = pd.read_json('data/demo_with_deal.json')\n",
    "\n",
    "dft = preprocess_file(df_params)\n",
    "results_d = optimize_with_deal(dft)\n",
    "results_nd = optimize_without_deal(dft)\n",
    "\n",
    "if results_d[3] > results_nd[3]:  # Comparing max_profit\n",
    "    results = results_d\n",
    "else:\n",
    "    results = results_nd\n",
    "\n",
    "df_result = result_process(dft, results[1], results[2])\n",
    "status, optimized_prices, deal, max_profit = results\n"
   ]
  },
  {
   "cell_type": "markdown",
   "metadata": {},
   "source": [
    "- 187476.73311710003\n",
    "- 187482.78771220002\n",
    "- 187517.54546265 5 = 10\n",
    "- 187625.80002710002 11=10"
   ]
  },
  {
   "cell_type": "code",
   "execution_count": 25,
   "metadata": {},
   "outputs": [
    {
     "data": {
      "text/plain": [
       "242126.31270000004"
      ]
     },
     "execution_count": 25,
     "metadata": {},
     "output_type": "execute_result"
    }
   ],
   "source": [
    "\n",
    "optimized_prices_deal = optimized_prices.copy()\n",
    "\n",
    "\n",
    "\n",
    "dealx = [0 for i in range(len(dft))]\n",
    "dftr = result_process(dft, optimized_pricesx, dealx)\n",
    "max_profit_no_deal = dftr.month_profit_rmb.sum()\n",
    "\n"
   ]
  },
  {
   "cell_type": "markdown",
   "metadata": {},
   "source": [
    "## optimize"
   ]
  },
  {
   "cell_type": "code",
   "execution_count": 8,
   "metadata": {},
   "outputs": [
    {
     "name": "stdout",
     "output_type": "stream",
     "text": [
      "Optimal Prices: [34.38125428 40.         43.66803274 37.05827994 37.67757197 39.50637623\n",
      " 42.65746247 36.33735078 42.19277234 45.63308705 44.70175476 46.65832994\n",
      " 41.10507809 38.70232233 36.51239747 42.29641188 39.44393697 53.87498815\n",
      " 10.          0.          0.          0.          0.          0.\n",
      "  0.          0.          0.          0.          0.          0.\n",
      "  0.          0.          0.          0.          0.         10.        ]\n"
     ]
    }
   ],
   "source": [
    "import numpy as np\n",
    "from scipy.optimize import minimize\n",
    "\n",
    "# 输入数据示例\n",
    "n_product = len(df_params['slope'])\n",
    "\n",
    "# 定义总利润函数\n",
    "def total_profit(x):\n",
    "    total_profit = 0\n",
    "    deal_days = x[-n_product:]\n",
    "    prices = x[:-n_product]\n",
    "    for i in range(n_product):\n",
    "        # 日常每天利润\n",
    "        fba_commission = prices[i] * 0.15\n",
    "        manual_fee = prices[i] * 0.06\n",
    "        storage_fee = prices[i] * 0.02\n",
    "\n",
    "        # 每个产品的利润 日常\n",
    "        product_income = prices[i] * (1 - df_params['damage_rate'][i]) - df_params['latest_amazon_delivery_fee_usd'][i] - \\\n",
    "            fba_commission - df_params['vat_local'][i] - df_params['promotion_discount'][i] - \\\n",
    "            df_params['ppc_cost'][i] - manual_fee - storage_fee\n",
    "        product_profit_rmb = product_income * df_params['exchange_rate'][i] - df_params['purchase_cost'][i] - \\\n",
    "            df_params['shipping_and_tax'][i]\n",
    "\n",
    "        # 每个产品的利润 deal\n",
    "        product_income_deal = prices[i] * 0.85 * (1 - df_params['damage_rate'][i]) - df_params['latest_amazon_delivery_fee_usd'][i] - \\\n",
    "            fba_commission - df_params['vat_local'][i] - df_params['promotion_discount'][i] - \\\n",
    "            df_params['ppc_cost'][i] - manual_fee - storage_fee\n",
    "        product_profit_rmb_deal = product_income_deal * df_params['exchange_rate'][i] - df_params['purchase_cost'][i] - \\\n",
    "            df_params['shipping_and_tax'][i]\n",
    "\n",
    "        # 日常销量\n",
    "        product_sales = df_params['slope'][i] * prices[i] + df_params['intercept'][i]\n",
    "\n",
    "        # deal销量\n",
    "        product_sales_deal = df_params['deal_slope'][i] * prices[i] + df_params['deal_intercept'][i]\n",
    "\n",
    "        # 总利润\n",
    "        total_profit += (30 - deal_days[i]) * product_profit_rmb * product_sales \\\n",
    "            + deal_days[i] * product_profit_rmb_deal * product_sales_deal\n",
    "\n",
    "    return -total_profit  # 由于minimize函数是求最小值，所以返回负的总利润\n",
    "\n",
    "# 价格区间 [30, 40]\n",
    "bounds1 = df_params[['price_lower_bound', 'price_upper_bound']].values\n",
    "bounds1 = [(i[0], i[1]) for i in bounds1]\n",
    "bounds2 = [(10,10)] + [(0, 10)] * (n_product-1)\n",
    "bounds = bounds1 + bounds2\n",
    "\n",
    "# 初始价格\n",
    "initial_prices1 = np.array([35] * n_product)\n",
    "initial_prices2 = np.array([5] * n_product)\n",
    "initial_prices = np.concatenate([initial_prices1, initial_prices2])\n",
    "\n",
    "# 使用minimize函数求解\n",
    "result = minimize(total_profit, initial_prices, bounds=bounds, method='L-BFGS-B')\n",
    "\n",
    "# 最优价格\n",
    "optimal_prices = result.x\n",
    "print(\"Optimal Prices:\", optimal_prices)"
   ]
  },
  {
   "cell_type": "code",
   "execution_count": 9,
   "metadata": {},
   "outputs": [
    {
     "data": {
      "text/plain": [
       "True"
      ]
     },
     "execution_count": 9,
     "metadata": {},
     "output_type": "execute_result"
    }
   ],
   "source": [
    "result.success"
   ]
  },
  {
   "cell_type": "markdown",
   "metadata": {},
   "source": [
    "## GA"
   ]
  },
  {
   "cell_type": "code",
   "execution_count": 151,
   "metadata": {},
   "outputs": [
    {
     "name": "stderr",
     "output_type": "stream",
     "text": [
      "/Users/adamzh0u/anaconda3/envs/py310/lib/python3.10/site-packages/sko/GA.py:190: RuntimeWarning: invalid value encountered in divide\n",
      "  return (b * mask).sum(axis=1) / mask.sum()\n"
     ]
    },
    {
     "data": {
      "text/plain": [
       "(array([35., 35., 44., 35., 42., 43., 44., 45., 46., 36., 48., 38., 39.,\n",
       "        39., 42., 34., 36., 54., nan,  6.,  4.,  9.,  7.,  8., 10., 10.,\n",
       "         6., 10.,  1.,  8.,  6., 10.,  4.,  0., 10., 10.]),\n",
       " array([nan]))"
      ]
     },
     "execution_count": 151,
     "metadata": {},
     "output_type": "execute_result"
    }
   ],
   "source": [
    "import numpy as np\n",
    "from sko.GA import GA, GA_TSP\n",
    "\n",
    "\n",
    "ga = GA(total_profit, n_dim=36, size_pop=50, max_iter=800, precision=1, lb=[i[0] for i in bounds], ub=[i[1] for i in bounds])\n",
    "best_x, best_y = ga.run()\n",
    "\n",
    "best_x, best_y"
   ]
  },
  {
   "cell_type": "code",
   "execution_count": 153,
   "metadata": {},
   "outputs": [
    {
     "data": {
      "text/plain": [
       "139342.01516399998"
      ]
     },
     "execution_count": 153,
     "metadata": {},
     "output_type": "execute_result"
    }
   ],
   "source": [
    "dealx = best_x[-n_product:]\n",
    "dealx[0] = 10\n",
    "optimized_pricesx = best_x[:-n_product]\n",
    "# optimized_pricesx = [round(i, 0) for i in optimized_pricesx]\n",
    "\n",
    "# optimized_pricesx[1] =40\n",
    "# dealx[1] = 0\n",
    "dftr = result_process(dft, optimized_pricesx, dealx)\n",
    "dftr.month_profit_rmb.sum()"
   ]
  }
 ],
 "metadata": {
  "kernelspec": {
   "display_name": "py310",
   "language": "python",
   "name": "python3"
  },
  "language_info": {
   "codemirror_mode": {
    "name": "ipython",
    "version": 3
   },
   "file_extension": ".py",
   "mimetype": "text/x-python",
   "name": "python",
   "nbconvert_exporter": "python",
   "pygments_lexer": "ipython3",
   "version": "3.10.14"
  }
 },
 "nbformat": 4,
 "nbformat_minor": 2
}
